{
 "cells": [
  {
   "cell_type": "code",
   "execution_count": 1,
   "metadata": {},
   "outputs": [],
   "source": [
    "import sqlite3\n",
    "import pandas as pd"
   ]
  },
  {
   "cell_type": "code",
   "execution_count": 2,
   "metadata": {},
   "outputs": [],
   "source": [
    "from dotenv import load_dotenv\n",
    "import os\n",
    "from openai import OpenAI\n",
    "api_key = os.getenv(\"OPENAI_API_KEY\")\n",
    "client = OpenAI()"
   ]
  },
  {
   "cell_type": "markdown",
   "metadata": {},
   "source": [
    "Creating DB Schema"
   ]
  },
  {
   "cell_type": "code",
   "execution_count": 25,
   "metadata": {},
   "outputs": [],
   "source": [
    "con = sqlite3.connect(\"secure_shield.db\")\n",
    "c = con.cursor()"
   ]
  },
  {
   "cell_type": "code",
   "execution_count": 26,
   "metadata": {},
   "outputs": [
    {
     "data": {
      "text/plain": [
       "<sqlite3.Cursor at 0x7149e613ddc0>"
      ]
     },
     "execution_count": 26,
     "metadata": {},
     "output_type": "execute_result"
    }
   ],
   "source": [
    "c.execute(\"PRAGMA foreign_keys = ON;\")"
   ]
  },
  {
   "cell_type": "code",
   "execution_count": null,
   "metadata": {},
   "outputs": [],
   "source": [
    "\n",
    "#c.execute(\"SELECT name FROM sqlite_master WHERE type='table';\")\n",
    "#tables = c.fetchall()\n",
    "\n",
    "# Drop each table\n",
    "#for table in tables:\n",
    " #   table_name = table[0]\n",
    "  #  c.execute(f\"DROP TABLE IF EXISTS {table_name}\")"
   ]
  },
  {
   "cell_type": "code",
   "execution_count": 56,
   "metadata": {},
   "outputs": [
    {
     "data": {
      "text/plain": [
       "<sqlite3.Cursor at 0x7149e613cdc0>"
      ]
     },
     "execution_count": 56,
     "metadata": {},
     "output_type": "execute_result"
    }
   ],
   "source": [
    "c.execute('''\n",
    "          CREATE TABLE Employees (\n",
    "          employee_id INTEGER PRIMARY KEY AUTOINCREMENT,\n",
    "          first_name TEXT NOT NULL,\n",
    "          last_name TEXT NOT NULL,\n",
    "          email TEXT UNIQUE NOT NULL,\n",
    "          role CHECK(role IN ('Claims Adjuster', 'Manager')),\n",
    "          password TEXT NOT NULL,\n",
    "          conversation_id INTEGER DEFAULT 0)\n",
    "          ''')"
   ]
  },
  {
   "cell_type": "code",
   "execution_count": 61,
   "metadata": {},
   "outputs": [
    {
     "data": {
      "text/plain": [
       "<sqlite3.Cursor at 0x7149e613cdc0>"
      ]
     },
     "execution_count": 61,
     "metadata": {},
     "output_type": "execute_result"
    }
   ],
   "source": [
    "c.execute('''\n",
    "          CREATE TABLE Clients (\n",
    "          client_id INTEGER PRIMARY KEY AUTOINCREMENT,\n",
    "          name TEXT NOT NULL,\n",
    "          age INTEGER NOT NULL,\n",
    "          gender TEXT NOT NULL,\n",
    "          email TEXT UNIQUE NOT NULL,\n",
    "          phone TEXT NOT NULL,\n",
    "          policy_id INTEGER,\n",
    "          FOREIGN KEY (policy_id) REFERENCES Policies(policy_id)\n",
    "          )\n",
    "          ''')"
   ]
  },
  {
   "cell_type": "code",
   "execution_count": 91,
   "metadata": {},
   "outputs": [
    {
     "data": {
      "text/plain": [
       "<sqlite3.Cursor at 0x7149e613cdc0>"
      ]
     },
     "execution_count": 91,
     "metadata": {},
     "output_type": "execute_result"
    }
   ],
   "source": [
    "c.execute('''\n",
    "          CREATE TABLE Claims (\n",
    "          claim_id INTEGER PRIMARY KEY AUTOINCREMENT,\n",
    "          user_id INTEGER NOT NULL,\n",
    "          policy_id INTEGER NOT NULL,\n",
    "          claim_type TEXT NOT NULL,\n",
    "          status TEXT NOT NULL,\n",
    "          submission_date DATE NOT NULL,\n",
    "          resolution_date DATE,\n",
    "          amount_claimed REAL NOT NULL,\n",
    "          amount_approved REAL,\n",
    "          approved_by INTEGER,\n",
    "          FOREIGN KEY (user_id) REFERENCES Clients(client_id),\n",
    "          FOREIGN KEY (policy_id) REFERENCES Policies(policy_id),\n",
    "          FOREIGN KEY (approved_by) REFERENCES Employees(employee_id)\n",
    "          );\n",
    "          ''')"
   ]
  },
  {
   "cell_type": "code",
   "execution_count": 58,
   "metadata": {},
   "outputs": [
    {
     "data": {
      "text/plain": [
       "<sqlite3.Cursor at 0x7149e613cdc0>"
      ]
     },
     "execution_count": 58,
     "metadata": {},
     "output_type": "execute_result"
    }
   ],
   "source": [
    "c.execute('''\n",
    "          CREATE TABLE Policies (\n",
    "          policy_id INTEGER PRIMARY KEY AUTOINCREMENT,\n",
    "          user_id INTEGER NOT NULL,\n",
    "          policy_type CHECK(policy_type IN ('Health', 'House', 'Car')),\n",
    "          policy_level CHECK(policy_level IN ('Bronze', 'Silver', 'Gold')),\n",
    "          start_date DATE NOT NULL,\n",
    "          end_date DATE NOT NULL,\n",
    "          pdf_path TEXT,\n",
    "          FOREIGN KEY (user_id) REFERENCES Clients(client_id)\n",
    "          )\n",
    "         ''')"
   ]
  },
  {
   "cell_type": "code",
   "execution_count": 31,
   "metadata": {},
   "outputs": [],
   "source": [
    "con.commit()\n",
    "con.close()"
   ]
  },
  {
   "cell_type": "markdown",
   "metadata": {},
   "source": [
    "Generating data"
   ]
  },
  {
   "cell_type": "code",
   "execution_count": 4,
   "metadata": {},
   "outputs": [],
   "source": [
    "def get_answer(prompt, model='gpt-3.5-turbo', **kwargs):\n",
    "    messages = [{\"role\": \"user\", \"content\": prompt}]\n",
    "    response = client.chat.completions.create(\n",
    "        model=model,\n",
    "        messages=messages,\n",
    "        **kwargs)\n",
    "    return response.choices[0].message.content"
   ]
  },
  {
   "cell_type": "code",
   "execution_count": 5,
   "metadata": {},
   "outputs": [],
   "source": [
    "clients = get_answer(prompt=f\"\"\"\n",
    "Generate a list of twenty made-up clients of a online platform along \\\n",
    "with their name, age, gender, email and phone.\n",
    "Provide them in JSON format with the following keys:\n",
    "name, age, gender, email and phone.\n",
    "\"\"\", temperature=0.6)"
   ]
  },
  {
   "cell_type": "code",
   "execution_count": 6,
   "metadata": {},
   "outputs": [
    {
     "name": "stderr",
     "output_type": "stream",
     "text": [
      "/tmp/ipykernel_2084/797118326.py:1: FutureWarning: Passing literal json to 'read_json' is deprecated and will be removed in a future version. To read from a literal string, wrap it in a 'StringIO' object.\n",
      "  clients = pd.read_json(clients)\n"
     ]
    }
   ],
   "source": [
    "clients = pd.read_json(clients)\n",
    "final_clients = pd.json_normalize(clients['clients'])"
   ]
  },
  {
   "cell_type": "code",
   "execution_count": 7,
   "metadata": {},
   "outputs": [
    {
     "data": {
      "text/html": [
       "<div>\n",
       "<style scoped>\n",
       "    .dataframe tbody tr th:only-of-type {\n",
       "        vertical-align: middle;\n",
       "    }\n",
       "\n",
       "    .dataframe tbody tr th {\n",
       "        vertical-align: top;\n",
       "    }\n",
       "\n",
       "    .dataframe thead th {\n",
       "        text-align: right;\n",
       "    }\n",
       "</style>\n",
       "<table border=\"1\" class=\"dataframe\">\n",
       "  <thead>\n",
       "    <tr style=\"text-align: right;\">\n",
       "      <th></th>\n",
       "      <th>name</th>\n",
       "      <th>age</th>\n",
       "      <th>gender</th>\n",
       "      <th>email</th>\n",
       "      <th>phone</th>\n",
       "    </tr>\n",
       "  </thead>\n",
       "  <tbody>\n",
       "    <tr>\n",
       "      <th>0</th>\n",
       "      <td>Alice Johnson</td>\n",
       "      <td>28</td>\n",
       "      <td>Female</td>\n",
       "      <td>alice.johnson@example.com</td>\n",
       "      <td>555-1234</td>\n",
       "    </tr>\n",
       "    <tr>\n",
       "      <th>1</th>\n",
       "      <td>John Smith</td>\n",
       "      <td>35</td>\n",
       "      <td>Male</td>\n",
       "      <td>john.smith@example.com</td>\n",
       "      <td>555-5678</td>\n",
       "    </tr>\n",
       "    <tr>\n",
       "      <th>2</th>\n",
       "      <td>Emily Davis</td>\n",
       "      <td>42</td>\n",
       "      <td>Female</td>\n",
       "      <td>emily.davis@example.com</td>\n",
       "      <td>555-9101</td>\n",
       "    </tr>\n",
       "    <tr>\n",
       "      <th>3</th>\n",
       "      <td>Michael Brown</td>\n",
       "      <td>50</td>\n",
       "      <td>Male</td>\n",
       "      <td>michael.brown@example.com</td>\n",
       "      <td>555-1122</td>\n",
       "    </tr>\n",
       "    <tr>\n",
       "      <th>4</th>\n",
       "      <td>Sophia Wilson</td>\n",
       "      <td>22</td>\n",
       "      <td>Female</td>\n",
       "      <td>sophia.wilson@example.com</td>\n",
       "      <td>555-3344</td>\n",
       "    </tr>\n",
       "  </tbody>\n",
       "</table>\n",
       "</div>"
      ],
      "text/plain": [
       "            name  age  gender                      email     phone\n",
       "0  Alice Johnson   28  Female  alice.johnson@example.com  555-1234\n",
       "1     John Smith   35    Male     john.smith@example.com  555-5678\n",
       "2    Emily Davis   42  Female    emily.davis@example.com  555-9101\n",
       "3  Michael Brown   50    Male  michael.brown@example.com  555-1122\n",
       "4  Sophia Wilson   22  Female  sophia.wilson@example.com  555-3344"
      ]
     },
     "execution_count": 7,
     "metadata": {},
     "output_type": "execute_result"
    }
   ],
   "source": [
    "final_clients.head()"
   ]
  },
  {
   "cell_type": "code",
   "execution_count": 8,
   "metadata": {},
   "outputs": [],
   "source": [
    "employees = get_answer(prompt=f\"\"\"\n",
    "Generate a list of twenty made-up employees of a online platform along \\\n",
    "with their first and last name, email, password and role that can be 'Claims Adjuster' or 'Manager'.\n",
    "Provide them in JSON format with the following keys:\n",
    "first_name, last_name, email, role and password.\n",
    "\"\"\", temperature=0.6)"
   ]
  },
  {
   "cell_type": "code",
   "execution_count": 9,
   "metadata": {},
   "outputs": [
    {
     "name": "stderr",
     "output_type": "stream",
     "text": [
      "/tmp/ipykernel_2084/1411261104.py:1: FutureWarning: Passing literal json to 'read_json' is deprecated and will be removed in a future version. To read from a literal string, wrap it in a 'StringIO' object.\n",
      "  employees = pd.read_json(employees)\n"
     ]
    }
   ],
   "source": [
    "employees = pd.read_json(employees)\n",
    "final_employees = pd.json_normalize(employees['employees'])"
   ]
  },
  {
   "cell_type": "code",
   "execution_count": 10,
   "metadata": {},
   "outputs": [
    {
     "data": {
      "text/html": [
       "<div>\n",
       "<style scoped>\n",
       "    .dataframe tbody tr th:only-of-type {\n",
       "        vertical-align: middle;\n",
       "    }\n",
       "\n",
       "    .dataframe tbody tr th {\n",
       "        vertical-align: top;\n",
       "    }\n",
       "\n",
       "    .dataframe thead th {\n",
       "        text-align: right;\n",
       "    }\n",
       "</style>\n",
       "<table border=\"1\" class=\"dataframe\">\n",
       "  <thead>\n",
       "    <tr style=\"text-align: right;\">\n",
       "      <th></th>\n",
       "      <th>first_name</th>\n",
       "      <th>last_name</th>\n",
       "      <th>email</th>\n",
       "      <th>password</th>\n",
       "      <th>role</th>\n",
       "    </tr>\n",
       "  </thead>\n",
       "  <tbody>\n",
       "    <tr>\n",
       "      <th>0</th>\n",
       "      <td>Samantha</td>\n",
       "      <td>Smith</td>\n",
       "      <td>samantha.smith@example.com</td>\n",
       "      <td>P@ssw0rd</td>\n",
       "      <td>Manager</td>\n",
       "    </tr>\n",
       "    <tr>\n",
       "      <th>1</th>\n",
       "      <td>Michael</td>\n",
       "      <td>Johnson</td>\n",
       "      <td>michael.johnson@example.com</td>\n",
       "      <td>P@ssw0rd</td>\n",
       "      <td>Claims Adjuster</td>\n",
       "    </tr>\n",
       "    <tr>\n",
       "      <th>2</th>\n",
       "      <td>Emily</td>\n",
       "      <td>Davis</td>\n",
       "      <td>emily.davis@example.com</td>\n",
       "      <td>P@ssw0rd</td>\n",
       "      <td>Manager</td>\n",
       "    </tr>\n",
       "    <tr>\n",
       "      <th>3</th>\n",
       "      <td>Daniel</td>\n",
       "      <td>Martinez</td>\n",
       "      <td>daniel.martinez@example.com</td>\n",
       "      <td>P@ssw0rd</td>\n",
       "      <td>Claims Adjuster</td>\n",
       "    </tr>\n",
       "    <tr>\n",
       "      <th>4</th>\n",
       "      <td>Jennifer</td>\n",
       "      <td>Lee</td>\n",
       "      <td>jennifer.lee@example.com</td>\n",
       "      <td>P@ssw0rd</td>\n",
       "      <td>Manager</td>\n",
       "    </tr>\n",
       "  </tbody>\n",
       "</table>\n",
       "</div>"
      ],
      "text/plain": [
       "  first_name last_name                        email  password             role\n",
       "0   Samantha     Smith   samantha.smith@example.com  P@ssw0rd          Manager\n",
       "1    Michael   Johnson  michael.johnson@example.com  P@ssw0rd  Claims Adjuster\n",
       "2      Emily     Davis      emily.davis@example.com  P@ssw0rd          Manager\n",
       "3     Daniel  Martinez  daniel.martinez@example.com  P@ssw0rd  Claims Adjuster\n",
       "4   Jennifer       Lee     jennifer.lee@example.com  P@ssw0rd          Manager"
      ]
     },
     "execution_count": 10,
     "metadata": {},
     "output_type": "execute_result"
    }
   ],
   "source": [
    "final_employees.head()"
   ]
  },
  {
   "cell_type": "code",
   "execution_count": null,
   "metadata": {},
   "outputs": [],
   "source": [
    "policies = get_answer(prompt=f\"\"\"\n",
    "Generate a list of twenty made-up policies of a online platform along with their policy type('Health' or 'House' or 'Car'), policy level('Bronze' or 'Silver' or 'Gold') the policy's start date and expiration date and pdf_path that if polity type is health than it must be 'Policies/HealthCare.pdf', if polity type is house than it must be 'Policies/HomeProtect.pdf'and if polity type is car than it must be 'Policies/AutoGuard.pdf'.\n",
    "            \n",
    "                      \n",
    "\n",
    "Provide them in JSON format with the following keys:\n",
    "policy_type, policy_level, start_date, end_date and pdf_path.\n",
    "\"\"\", temperature=0.6)"
   ]
  },
  {
   "cell_type": "code",
   "execution_count": 14,
   "metadata": {},
   "outputs": [
    {
     "name": "stderr",
     "output_type": "stream",
     "text": [
      "/tmp/ipykernel_2084/2120300166.py:1: FutureWarning: Passing literal json to 'read_json' is deprecated and will be removed in a future version. To read from a literal string, wrap it in a 'StringIO' object.\n",
      "  policies = pd.read_json(policies)\n"
     ]
    }
   ],
   "source": [
    "policies = pd.read_json(policies)\n",
    "final_policies = pd.json_normalize(policies['policies'])"
   ]
  },
  {
   "cell_type": "code",
   "execution_count": 15,
   "metadata": {},
   "outputs": [
    {
     "data": {
      "text/html": [
       "<div>\n",
       "<style scoped>\n",
       "    .dataframe tbody tr th:only-of-type {\n",
       "        vertical-align: middle;\n",
       "    }\n",
       "\n",
       "    .dataframe tbody tr th {\n",
       "        vertical-align: top;\n",
       "    }\n",
       "\n",
       "    .dataframe thead th {\n",
       "        text-align: right;\n",
       "    }\n",
       "</style>\n",
       "<table border=\"1\" class=\"dataframe\">\n",
       "  <thead>\n",
       "    <tr style=\"text-align: right;\">\n",
       "      <th></th>\n",
       "      <th>policy_type</th>\n",
       "      <th>policy_level</th>\n",
       "      <th>start_date</th>\n",
       "      <th>end_date</th>\n",
       "      <th>pdf_path</th>\n",
       "    </tr>\n",
       "  </thead>\n",
       "  <tbody>\n",
       "    <tr>\n",
       "      <th>0</th>\n",
       "      <td>Health</td>\n",
       "      <td>Bronze</td>\n",
       "      <td>2021-01-01</td>\n",
       "      <td>2021-12-31</td>\n",
       "      <td>Policies/HealthCare.pdf</td>\n",
       "    </tr>\n",
       "    <tr>\n",
       "      <th>1</th>\n",
       "      <td>House</td>\n",
       "      <td>Silver</td>\n",
       "      <td>2021-02-15</td>\n",
       "      <td>2022-02-14</td>\n",
       "      <td>Policies/HomeProtect.pdf</td>\n",
       "    </tr>\n",
       "    <tr>\n",
       "      <th>2</th>\n",
       "      <td>Car</td>\n",
       "      <td>Gold</td>\n",
       "      <td>2021-03-10</td>\n",
       "      <td>2022-03-09</td>\n",
       "      <td>Policies/AutoGuard.pdf</td>\n",
       "    </tr>\n",
       "    <tr>\n",
       "      <th>3</th>\n",
       "      <td>Health</td>\n",
       "      <td>Silver</td>\n",
       "      <td>2021-04-20</td>\n",
       "      <td>2022-04-19</td>\n",
       "      <td>Policies/HealthCare.pdf</td>\n",
       "    </tr>\n",
       "    <tr>\n",
       "      <th>4</th>\n",
       "      <td>House</td>\n",
       "      <td>Bronze</td>\n",
       "      <td>2021-05-05</td>\n",
       "      <td>2022-05-04</td>\n",
       "      <td>Policies/HomeProtect.pdf</td>\n",
       "    </tr>\n",
       "  </tbody>\n",
       "</table>\n",
       "</div>"
      ],
      "text/plain": [
       "  policy_type policy_level  start_date    end_date                  pdf_path\n",
       "0      Health       Bronze  2021-01-01  2021-12-31   Policies/HealthCare.pdf\n",
       "1       House       Silver  2021-02-15  2022-02-14  Policies/HomeProtect.pdf\n",
       "2         Car         Gold  2021-03-10  2022-03-09    Policies/AutoGuard.pdf\n",
       "3      Health       Silver  2021-04-20  2022-04-19   Policies/HealthCare.pdf\n",
       "4       House       Bronze  2021-05-05  2022-05-04  Policies/HomeProtect.pdf"
      ]
     },
     "execution_count": 15,
     "metadata": {},
     "output_type": "execute_result"
    }
   ],
   "source": [
    "final_policies.head()"
   ]
  },
  {
   "cell_type": "code",
   "execution_count": 22,
   "metadata": {},
   "outputs": [],
   "source": [
    "claims = get_answer(prompt=f\"\"\"\n",
    "Generate a list of twenty made-up claims of a online platform along \\\n",
    "claim type(for example: vehicle accident, theft, medical ...), current status of the claim (pending, approved, denied), the date when the claim was filed, the date when the claim was resolved (can be null), the total amount claimed by the user, the amount approved for reimbursement (can be null).\n",
    "Provide them in JSON format with the following keys:\n",
    "claim_type, status, submission_date, resolution_date, amount_claimed, amount_approved.\n",
    "\"\"\", temperature=0.6)"
   ]
  },
  {
   "cell_type": "code",
   "execution_count": 23,
   "metadata": {},
   "outputs": [
    {
     "name": "stderr",
     "output_type": "stream",
     "text": [
      "/tmp/ipykernel_2084/4208098615.py:1: FutureWarning: Passing literal json to 'read_json' is deprecated and will be removed in a future version. To read from a literal string, wrap it in a 'StringIO' object.\n",
      "  claims = pd.read_json(claims)\n"
     ]
    }
   ],
   "source": [
    "claims = pd.read_json(claims)\n",
    "final_claims = pd.json_normalize(claims['claims'])"
   ]
  },
  {
   "cell_type": "code",
   "execution_count": 24,
   "metadata": {},
   "outputs": [
    {
     "data": {
      "text/html": [
       "<div>\n",
       "<style scoped>\n",
       "    .dataframe tbody tr th:only-of-type {\n",
       "        vertical-align: middle;\n",
       "    }\n",
       "\n",
       "    .dataframe tbody tr th {\n",
       "        vertical-align: top;\n",
       "    }\n",
       "\n",
       "    .dataframe thead th {\n",
       "        text-align: right;\n",
       "    }\n",
       "</style>\n",
       "<table border=\"1\" class=\"dataframe\">\n",
       "  <thead>\n",
       "    <tr style=\"text-align: right;\">\n",
       "      <th></th>\n",
       "      <th>claim_type</th>\n",
       "      <th>status</th>\n",
       "      <th>submission_date</th>\n",
       "      <th>resolution_date</th>\n",
       "      <th>amount_claimed</th>\n",
       "      <th>amount_approved</th>\n",
       "    </tr>\n",
       "  </thead>\n",
       "  <tbody>\n",
       "    <tr>\n",
       "      <th>0</th>\n",
       "      <td>vehicle accident</td>\n",
       "      <td>approved</td>\n",
       "      <td>2021-05-10</td>\n",
       "      <td>2021-06-05</td>\n",
       "      <td>5000</td>\n",
       "      <td>4000.0</td>\n",
       "    </tr>\n",
       "    <tr>\n",
       "      <th>1</th>\n",
       "      <td>theft</td>\n",
       "      <td>denied</td>\n",
       "      <td>2021-04-15</td>\n",
       "      <td>None</td>\n",
       "      <td>3000</td>\n",
       "      <td>NaN</td>\n",
       "    </tr>\n",
       "    <tr>\n",
       "      <th>2</th>\n",
       "      <td>medical</td>\n",
       "      <td>pending</td>\n",
       "      <td>2021-06-20</td>\n",
       "      <td>None</td>\n",
       "      <td>10000</td>\n",
       "      <td>NaN</td>\n",
       "    </tr>\n",
       "    <tr>\n",
       "      <th>3</th>\n",
       "      <td>property damage</td>\n",
       "      <td>approved</td>\n",
       "      <td>2021-07-01</td>\n",
       "      <td>2021-07-20</td>\n",
       "      <td>7000</td>\n",
       "      <td>6000.0</td>\n",
       "    </tr>\n",
       "    <tr>\n",
       "      <th>4</th>\n",
       "      <td>lost luggage</td>\n",
       "      <td>denied</td>\n",
       "      <td>2021-03-25</td>\n",
       "      <td>None</td>\n",
       "      <td>2000</td>\n",
       "      <td>NaN</td>\n",
       "    </tr>\n",
       "  </tbody>\n",
       "</table>\n",
       "</div>"
      ],
      "text/plain": [
       "         claim_type    status submission_date resolution_date  amount_claimed  \\\n",
       "0  vehicle accident  approved      2021-05-10      2021-06-05            5000   \n",
       "1             theft    denied      2021-04-15            None            3000   \n",
       "2           medical   pending      2021-06-20            None           10000   \n",
       "3   property damage  approved      2021-07-01      2021-07-20            7000   \n",
       "4      lost luggage    denied      2021-03-25            None            2000   \n",
       "\n",
       "   amount_approved  \n",
       "0           4000.0  \n",
       "1              NaN  \n",
       "2              NaN  \n",
       "3           6000.0  \n",
       "4              NaN  "
      ]
     },
     "execution_count": 24,
     "metadata": {},
     "output_type": "execute_result"
    }
   ],
   "source": [
    "final_claims.head()"
   ]
  },
  {
   "cell_type": "code",
   "execution_count": 46,
   "metadata": {},
   "outputs": [],
   "source": [
    "final_clients.to_csv('clients.csv', index=False)\n",
    "final_claims.to_csv('claims.csv', index=False)\n",
    "final_employees.to_csv('employees.csv', index=False)\n",
    "final_policies.to_csv('policies.csv', index=False)"
   ]
  },
  {
   "cell_type": "code",
   "execution_count": 47,
   "metadata": {},
   "outputs": [
    {
     "data": {
      "text/html": [
       "<div>\n",
       "<style scoped>\n",
       "    .dataframe tbody tr th:only-of-type {\n",
       "        vertical-align: middle;\n",
       "    }\n",
       "\n",
       "    .dataframe tbody tr th {\n",
       "        vertical-align: top;\n",
       "    }\n",
       "\n",
       "    .dataframe thead th {\n",
       "        text-align: right;\n",
       "    }\n",
       "</style>\n",
       "<table border=\"1\" class=\"dataframe\">\n",
       "  <thead>\n",
       "    <tr style=\"text-align: right;\">\n",
       "      <th></th>\n",
       "      <th>name</th>\n",
       "      <th>age</th>\n",
       "      <th>gender</th>\n",
       "      <th>email</th>\n",
       "      <th>phone</th>\n",
       "    </tr>\n",
       "  </thead>\n",
       "  <tbody>\n",
       "    <tr>\n",
       "      <th>0</th>\n",
       "      <td>Alice Johnson</td>\n",
       "      <td>28</td>\n",
       "      <td>Female</td>\n",
       "      <td>alice.johnson@example.com</td>\n",
       "      <td>555-1234</td>\n",
       "    </tr>\n",
       "    <tr>\n",
       "      <th>1</th>\n",
       "      <td>John Smith</td>\n",
       "      <td>35</td>\n",
       "      <td>Male</td>\n",
       "      <td>john.smith@example.com</td>\n",
       "      <td>555-5678</td>\n",
       "    </tr>\n",
       "    <tr>\n",
       "      <th>2</th>\n",
       "      <td>Emily Davis</td>\n",
       "      <td>42</td>\n",
       "      <td>Female</td>\n",
       "      <td>emily.davis@example.com</td>\n",
       "      <td>555-9101</td>\n",
       "    </tr>\n",
       "    <tr>\n",
       "      <th>3</th>\n",
       "      <td>Michael Brown</td>\n",
       "      <td>50</td>\n",
       "      <td>Male</td>\n",
       "      <td>michael.brown@example.com</td>\n",
       "      <td>555-1122</td>\n",
       "    </tr>\n",
       "    <tr>\n",
       "      <th>4</th>\n",
       "      <td>Sophia Wilson</td>\n",
       "      <td>22</td>\n",
       "      <td>Female</td>\n",
       "      <td>sophia.wilson@example.com</td>\n",
       "      <td>555-3344</td>\n",
       "    </tr>\n",
       "  </tbody>\n",
       "</table>\n",
       "</div>"
      ],
      "text/plain": [
       "            name  age  gender                      email     phone\n",
       "0  Alice Johnson   28  Female  alice.johnson@example.com  555-1234\n",
       "1     John Smith   35    Male     john.smith@example.com  555-5678\n",
       "2    Emily Davis   42  Female    emily.davis@example.com  555-9101\n",
       "3  Michael Brown   50    Male  michael.brown@example.com  555-1122\n",
       "4  Sophia Wilson   22  Female  sophia.wilson@example.com  555-3344"
      ]
     },
     "execution_count": 47,
     "metadata": {},
     "output_type": "execute_result"
    }
   ],
   "source": [
    "clients = pd.read_csv('clients.csv')\n",
    "claims = pd.read_csv('claims.csv')\n",
    "employees = pd.read_csv('employees.csv')\n",
    "policies = pd.read_csv('policies.csv')\n",
    "clients.head()"
   ]
  },
  {
   "cell_type": "markdown",
   "metadata": {},
   "source": [
    "Populating the DB"
   ]
  },
  {
   "cell_type": "code",
   "execution_count": 32,
   "metadata": {},
   "outputs": [],
   "source": [
    "con = sqlite3.connect(\"secure_shield.db\")\n",
    "c = con.cursor()"
   ]
  },
  {
   "cell_type": "code",
   "execution_count": 62,
   "metadata": {},
   "outputs": [],
   "source": [
    "for u in clients.name:\n",
    "    row = clients[clients['name'] == u].iloc[0] \n",
    "\n",
    "    values = (\n",
    "        row['name'],\n",
    "        row['age'],\n",
    "        row['gender'],\n",
    "        row['email'],\n",
    "        row['phone'])\n",
    "    \n",
    "    c.execute(\"INSERT INTO clients ( name, age, gender, email, phone) VALUES ( ?,?,?,?,?)\", values)\n",
    "con.commit()\n"
   ]
  },
  {
   "cell_type": "code",
   "execution_count": 66,
   "metadata": {},
   "outputs": [],
   "source": [
    "for u in employees.first_name:\n",
    "    row =  employees[ employees['first_name'] == u].iloc[0] \n",
    "\n",
    "    values = (\n",
    "        row['first_name'],\n",
    "        row['last_name'],\n",
    "        row['email'],\n",
    "        row['role'],\n",
    "        row['password'])\n",
    "    \n",
    "    c.execute(\"INSERT INTO employees (first_name, last_name, email, role, password) VALUES ( ?,?,?,?,?)\", values)\n",
    "con.commit()"
   ]
  },
  {
   "cell_type": "code",
   "execution_count": 71,
   "metadata": {},
   "outputs": [
    {
     "data": {
      "text/html": [
       "<div>\n",
       "<style scoped>\n",
       "    .dataframe tbody tr th:only-of-type {\n",
       "        vertical-align: middle;\n",
       "    }\n",
       "\n",
       "    .dataframe tbody tr th {\n",
       "        vertical-align: top;\n",
       "    }\n",
       "\n",
       "    .dataframe thead th {\n",
       "        text-align: right;\n",
       "    }\n",
       "</style>\n",
       "<table border=\"1\" class=\"dataframe\">\n",
       "  <thead>\n",
       "    <tr style=\"text-align: right;\">\n",
       "      <th></th>\n",
       "      <th>policy_type</th>\n",
       "      <th>policy_level</th>\n",
       "      <th>start_date</th>\n",
       "      <th>end_date</th>\n",
       "      <th>pdf_path</th>\n",
       "    </tr>\n",
       "  </thead>\n",
       "  <tbody>\n",
       "    <tr>\n",
       "      <th>0</th>\n",
       "      <td>Health</td>\n",
       "      <td>Bronze</td>\n",
       "      <td>2021-01-01</td>\n",
       "      <td>2021-12-31</td>\n",
       "      <td>Policies/HealthCare.pdf</td>\n",
       "    </tr>\n",
       "    <tr>\n",
       "      <th>1</th>\n",
       "      <td>House</td>\n",
       "      <td>Silver</td>\n",
       "      <td>2021-02-15</td>\n",
       "      <td>2022-02-14</td>\n",
       "      <td>Policies/HomeProtect.pdf</td>\n",
       "    </tr>\n",
       "    <tr>\n",
       "      <th>2</th>\n",
       "      <td>Car</td>\n",
       "      <td>Gold</td>\n",
       "      <td>2021-03-10</td>\n",
       "      <td>2022-03-09</td>\n",
       "      <td>Policies/AutoGuard.pdf</td>\n",
       "    </tr>\n",
       "    <tr>\n",
       "      <th>3</th>\n",
       "      <td>Health</td>\n",
       "      <td>Silver</td>\n",
       "      <td>2021-04-20</td>\n",
       "      <td>2022-04-19</td>\n",
       "      <td>Policies/HealthCare.pdf</td>\n",
       "    </tr>\n",
       "    <tr>\n",
       "      <th>4</th>\n",
       "      <td>House</td>\n",
       "      <td>Bronze</td>\n",
       "      <td>2021-05-05</td>\n",
       "      <td>2022-05-04</td>\n",
       "      <td>Policies/HomeProtect.pdf</td>\n",
       "    </tr>\n",
       "    <tr>\n",
       "      <th>5</th>\n",
       "      <td>Car</td>\n",
       "      <td>Silver</td>\n",
       "      <td>2021-06-30</td>\n",
       "      <td>2022-06-29</td>\n",
       "      <td>Policies/AutoGuard.pdf</td>\n",
       "    </tr>\n",
       "    <tr>\n",
       "      <th>6</th>\n",
       "      <td>Health</td>\n",
       "      <td>Gold</td>\n",
       "      <td>2021-07-10</td>\n",
       "      <td>2022-07-09</td>\n",
       "      <td>Policies/HealthCare.pdf</td>\n",
       "    </tr>\n",
       "    <tr>\n",
       "      <th>7</th>\n",
       "      <td>House</td>\n",
       "      <td>Gold</td>\n",
       "      <td>2021-08-25</td>\n",
       "      <td>2022-08-24</td>\n",
       "      <td>Policies/HomeProtect.pdf</td>\n",
       "    </tr>\n",
       "    <tr>\n",
       "      <th>8</th>\n",
       "      <td>Car</td>\n",
       "      <td>Bronze</td>\n",
       "      <td>2021-09-05</td>\n",
       "      <td>2022-09-04</td>\n",
       "      <td>Policies/AutoGuard.pdf</td>\n",
       "    </tr>\n",
       "    <tr>\n",
       "      <th>9</th>\n",
       "      <td>Health</td>\n",
       "      <td>Silver</td>\n",
       "      <td>2021-10-15</td>\n",
       "      <td>2022-10-14</td>\n",
       "      <td>Policies/HealthCare.pdf</td>\n",
       "    </tr>\n",
       "    <tr>\n",
       "      <th>10</th>\n",
       "      <td>House</td>\n",
       "      <td>Bronze</td>\n",
       "      <td>2021-11-20</td>\n",
       "      <td>2022-11-19</td>\n",
       "      <td>Policies/HomeProtect.pdf</td>\n",
       "    </tr>\n",
       "    <tr>\n",
       "      <th>11</th>\n",
       "      <td>Car</td>\n",
       "      <td>Gold</td>\n",
       "      <td>2021-12-30</td>\n",
       "      <td>2022-12-29</td>\n",
       "      <td>Policies/AutoGuard.pdf</td>\n",
       "    </tr>\n",
       "    <tr>\n",
       "      <th>12</th>\n",
       "      <td>Health</td>\n",
       "      <td>Gold</td>\n",
       "      <td>2022-01-10</td>\n",
       "      <td>2023-01-09</td>\n",
       "      <td>Policies/HealthCare.pdf</td>\n",
       "    </tr>\n",
       "    <tr>\n",
       "      <th>13</th>\n",
       "      <td>House</td>\n",
       "      <td>Silver</td>\n",
       "      <td>2022-02-20</td>\n",
       "      <td>2023-02-19</td>\n",
       "      <td>Policies/HomeProtect.pdf</td>\n",
       "    </tr>\n",
       "    <tr>\n",
       "      <th>14</th>\n",
       "      <td>Car</td>\n",
       "      <td>Bronze</td>\n",
       "      <td>2022-03-05</td>\n",
       "      <td>2023-03-04</td>\n",
       "      <td>Policies/AutoGuard.pdf</td>\n",
       "    </tr>\n",
       "    <tr>\n",
       "      <th>15</th>\n",
       "      <td>Health</td>\n",
       "      <td>Silver</td>\n",
       "      <td>2022-04-15</td>\n",
       "      <td>2023-04-14</td>\n",
       "      <td>Policies/HealthCare.pdf</td>\n",
       "    </tr>\n",
       "    <tr>\n",
       "      <th>16</th>\n",
       "      <td>House</td>\n",
       "      <td>Bronze</td>\n",
       "      <td>2022-05-25</td>\n",
       "      <td>2023-05-24</td>\n",
       "      <td>Policies/HomeProtect.pdf</td>\n",
       "    </tr>\n",
       "    <tr>\n",
       "      <th>17</th>\n",
       "      <td>Car</td>\n",
       "      <td>Gold</td>\n",
       "      <td>2022-06-10</td>\n",
       "      <td>2023-06-09</td>\n",
       "      <td>Policies/AutoGuard.pdf</td>\n",
       "    </tr>\n",
       "    <tr>\n",
       "      <th>18</th>\n",
       "      <td>Health</td>\n",
       "      <td>Gold</td>\n",
       "      <td>2022-07-20</td>\n",
       "      <td>2023-07-19</td>\n",
       "      <td>Policies/HealthCare.pdf</td>\n",
       "    </tr>\n",
       "    <tr>\n",
       "      <th>19</th>\n",
       "      <td>House</td>\n",
       "      <td>Gold</td>\n",
       "      <td>2022-08-30</td>\n",
       "      <td>2023-08-29</td>\n",
       "      <td>Policies/HomeProtect.pdf</td>\n",
       "    </tr>\n",
       "  </tbody>\n",
       "</table>\n",
       "</div>"
      ],
      "text/plain": [
       "   policy_type policy_level  start_date    end_date                  pdf_path\n",
       "0       Health       Bronze  2021-01-01  2021-12-31   Policies/HealthCare.pdf\n",
       "1        House       Silver  2021-02-15  2022-02-14  Policies/HomeProtect.pdf\n",
       "2          Car         Gold  2021-03-10  2022-03-09    Policies/AutoGuard.pdf\n",
       "3       Health       Silver  2021-04-20  2022-04-19   Policies/HealthCare.pdf\n",
       "4        House       Bronze  2021-05-05  2022-05-04  Policies/HomeProtect.pdf\n",
       "5          Car       Silver  2021-06-30  2022-06-29    Policies/AutoGuard.pdf\n",
       "6       Health         Gold  2021-07-10  2022-07-09   Policies/HealthCare.pdf\n",
       "7        House         Gold  2021-08-25  2022-08-24  Policies/HomeProtect.pdf\n",
       "8          Car       Bronze  2021-09-05  2022-09-04    Policies/AutoGuard.pdf\n",
       "9       Health       Silver  2021-10-15  2022-10-14   Policies/HealthCare.pdf\n",
       "10       House       Bronze  2021-11-20  2022-11-19  Policies/HomeProtect.pdf\n",
       "11         Car         Gold  2021-12-30  2022-12-29    Policies/AutoGuard.pdf\n",
       "12      Health         Gold  2022-01-10  2023-01-09   Policies/HealthCare.pdf\n",
       "13       House       Silver  2022-02-20  2023-02-19  Policies/HomeProtect.pdf\n",
       "14         Car       Bronze  2022-03-05  2023-03-04    Policies/AutoGuard.pdf\n",
       "15      Health       Silver  2022-04-15  2023-04-14   Policies/HealthCare.pdf\n",
       "16       House       Bronze  2022-05-25  2023-05-24  Policies/HomeProtect.pdf\n",
       "17         Car         Gold  2022-06-10  2023-06-09    Policies/AutoGuard.pdf\n",
       "18      Health         Gold  2022-07-20  2023-07-19   Policies/HealthCare.pdf\n",
       "19       House         Gold  2022-08-30  2023-08-29  Policies/HomeProtect.pdf"
      ]
     },
     "execution_count": 71,
     "metadata": {},
     "output_type": "execute_result"
    }
   ],
   "source": [
    "policies.append()"
   ]
  },
  {
   "cell_type": "code",
   "execution_count": 72,
   "metadata": {},
   "outputs": [
    {
     "name": "stdout",
     "output_type": "stream",
     "text": [
      "   policy_type policy_level  start_date    end_date                  pdf_path  \\\n",
      "0       Health       Bronze  2021-01-01  2021-12-31   Policies/HealthCare.pdf   \n",
      "1        House       Silver  2021-02-15  2022-02-14  Policies/HomeProtect.pdf   \n",
      "2          Car         Gold  2021-03-10  2022-03-09    Policies/AutoGuard.pdf   \n",
      "3       Health       Silver  2021-04-20  2022-04-19   Policies/HealthCare.pdf   \n",
      "4        House       Bronze  2021-05-05  2022-05-04  Policies/HomeProtect.pdf   \n",
      "5          Car       Silver  2021-06-30  2022-06-29    Policies/AutoGuard.pdf   \n",
      "6       Health         Gold  2021-07-10  2022-07-09   Policies/HealthCare.pdf   \n",
      "7        House         Gold  2021-08-25  2022-08-24  Policies/HomeProtect.pdf   \n",
      "8          Car       Bronze  2021-09-05  2022-09-04    Policies/AutoGuard.pdf   \n",
      "9       Health       Silver  2021-10-15  2022-10-14   Policies/HealthCare.pdf   \n",
      "10       House       Bronze  2021-11-20  2022-11-19  Policies/HomeProtect.pdf   \n",
      "11         Car         Gold  2021-12-30  2022-12-29    Policies/AutoGuard.pdf   \n",
      "12      Health         Gold  2022-01-10  2023-01-09   Policies/HealthCare.pdf   \n",
      "13       House       Silver  2022-02-20  2023-02-19  Policies/HomeProtect.pdf   \n",
      "14         Car       Bronze  2022-03-05  2023-03-04    Policies/AutoGuard.pdf   \n",
      "15      Health       Silver  2022-04-15  2023-04-14   Policies/HealthCare.pdf   \n",
      "16       House       Bronze  2022-05-25  2023-05-24  Policies/HomeProtect.pdf   \n",
      "17         Car         Gold  2022-06-10  2023-06-09    Policies/AutoGuard.pdf   \n",
      "18      Health         Gold  2022-07-20  2023-07-19   Policies/HealthCare.pdf   \n",
      "19       House         Gold  2022-08-30  2023-08-29  Policies/HomeProtect.pdf   \n",
      "\n",
      "    user_id  \n",
      "0         1  \n",
      "1        15  \n",
      "2         9  \n",
      "3        17  \n",
      "4        12  \n",
      "5        10  \n",
      "6         6  \n",
      "7         3  \n",
      "8        16  \n",
      "9        19  \n",
      "10       20  \n",
      "11       13  \n",
      "12        8  \n",
      "13        2  \n",
      "14       14  \n",
      "15       11  \n",
      "16        4  \n",
      "17        7  \n",
      "18        5  \n",
      "19       18  \n"
     ]
    }
   ],
   "source": [
    "\n",
    "# Retrieve client_id from the Clients table\n",
    "c.execute(\"SELECT client_id FROM Clients;\")\n",
    "client_ids = [row[0] for row in c.fetchall()]  # Fetch all client_ids and store them in a list\n",
    "\n",
    "policies['user_id'] = client_ids[:len(policies)]  # Assign random client_ids to the policies DataFrame\n"
   ]
  },
  {
   "cell_type": "code",
   "execution_count": 73,
   "metadata": {},
   "outputs": [],
   "source": [
    "for u in policies.policy_type:\n",
    "    row =  policies[ policies['policy_type'] == u].iloc[0] \n",
    "\n",
    "    values = (\n",
    "        row['policy_type'],\n",
    "        row['policy_level'],\n",
    "        row['start_date'],\n",
    "        row['end_date'],\n",
    "        row['pdf_path'],\n",
    "        row['user_id'])\n",
    "    \n",
    "    c.execute(\"INSERT INTO policies (policy_type, policy_level, start_date, end_date, pdf_path, user_id) VALUES ( ?,?,?,?,?,?)\", values)\n",
    "con.commit()"
   ]
  },
  {
   "cell_type": "code",
   "execution_count": 87,
   "metadata": {},
   "outputs": [],
   "source": [
    "c.execute(\"SELECT client_id FROM Clients;\")\n",
    "client_ids = [row[0] for row in c.fetchall()]\n",
    "claims['user_id'] = client_ids[:len(claims)]\n",
    "\n",
    "c.execute(\"SELECT policy_id FROM Policies;\")\n",
    "policy_ids = [row[0] for row in c.fetchall()]\n",
    "claims['policy_id'] = policy_ids[:len(claims)]\n",
    "\n",
    "c.execute(\"SELECT employee_id FROM Employees;\")\n",
    "employee_ids = [row[0] for row in c.fetchall()]\n",
    "claims['approved_by'] = employee_ids[:len(claims)]"
   ]
  },
  {
   "cell_type": "code",
   "execution_count": 94,
   "metadata": {},
   "outputs": [],
   "source": [
    "for u in claims.status:\n",
    "    row =  claims[claims['status'] == u].iloc[0] \n",
    "\n",
    "    values = (\n",
    "        row['claim_type'],\n",
    "        row['status'],\n",
    "        row['submission_date'],\n",
    "        row['resolution_date'],\n",
    "        row['amount_claimed'],\n",
    "        row['amount_approved'],\n",
    "        row['user_id'],\n",
    "        row['policy_id'],\n",
    "        row['approved_by'])\n",
    "    \n",
    "    c.execute(\"INSERT INTO claims (claim_type, status, submission_date, resolution_date, amount_claimed, amount_approved, user_id, policy_id, approved_by) VALUES ( ?,?,?,?,?,?,?,?,?)\", values)\n",
    "con.commit()"
   ]
  }
 ],
 "metadata": {
  "kernelspec": {
   "display_name": "Python 3",
   "language": "python",
   "name": "python3"
  },
  "language_info": {
   "codemirror_mode": {
    "name": "ipython",
    "version": 3
   },
   "file_extension": ".py",
   "mimetype": "text/x-python",
   "name": "python",
   "nbconvert_exporter": "python",
   "pygments_lexer": "ipython3",
   "version": "3.12.1"
  }
 },
 "nbformat": 4,
 "nbformat_minor": 2
}
