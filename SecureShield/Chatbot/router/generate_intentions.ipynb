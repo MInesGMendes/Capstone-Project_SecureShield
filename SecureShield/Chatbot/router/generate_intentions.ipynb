{
 "cells": [
  {
   "cell_type": "code",
   "execution_count": 30,
   "metadata": {},
   "outputs": [],
   "source": [
    "from pydantic import BaseModel, Field\n",
    "from langchain.output_parsers import PydanticOutputParser\n",
    "from langchain_core.prompts import PromptTemplate\n",
    "from langchain_openai import ChatOpenAI\n",
    "from dotenv import load_dotenv"
   ]
  },
  {
   "cell_type": "code",
   "execution_count": 31,
   "metadata": {},
   "outputs": [
    {
     "data": {
      "text/plain": [
       "True"
      ]
     },
     "execution_count": 31,
     "metadata": {},
     "output_type": "execute_result"
    }
   ],
   "source": [
    "load_dotenv()"
   ]
  },
  {
   "cell_type": "markdown",
   "metadata": {},
   "source": [
    "Here are some auxiliar functions to save your synthetic data."
   ]
  },
  {
   "cell_type": "code",
   "execution_count": 32,
   "metadata": {},
   "outputs": [],
   "source": [
    "from auxiliar import add_messages"
   ]
  },
  {
   "cell_type": "code",
   "execution_count": 33,
   "metadata": {},
   "outputs": [],
   "source": [
    "class SyntheticUserMessage(BaseModel):\n",
    "\n",
    "    message: str = Field(\n",
    "        ...,\n",
    "        title=\"Message\",\n",
    "        description=\"The user message to generate for the target task intention.\",\n",
    "    )\n",
    "\n",
    "\n",
    "class ListSyntheticUserMessages(BaseModel):\n",
    "\n",
    "    messages: list[SyntheticUserMessage] = Field(\n",
    "        ...,\n",
    "        title=\"Messages\",\n",
    "        description=\"The list of synthetic user messages to generate for the target task intention.\",\n",
    "    )\n",
    "\n",
    "output_parser = PydanticOutputParser(pydantic_object=ListSyntheticUserMessages)"
   ]
  },
  {
   "cell_type": "code",
   "execution_count": 34,
   "metadata": {},
   "outputs": [],
   "source": [
    "system_prompt = \"\"\"\n",
    "You are tasked with generating synthetic user messages for an insurance company platform called SecureShield, \n",
    "seeking to help there employees to optimize its claims processing workflow and accelerate the approval or rejection of claims.\n",
    "\n",
    "The user intentions are:\n",
    "{user_intentions}\n",
    "\n",
    "Your task is to create {k} distinct messages for the following target task intention:\n",
    "{target_task_intention}\n",
    "\n",
    "Specific information about the target task intention:\n",
    "{target_task_intention_description}\n",
    "\n",
    "Follow these guidelines:\n",
    "1. Focus exclusively on the target task intention, ensuring the message is relevant.\n",
    "2. Each message should be between 5 and 20 words.\n",
    "3. Avoid including any details or references to other user intentions.\n",
    "4. Ensure the messages sound natural and typical of user queries for the given intention.\n",
    "5. Follow the provided format strictly to maintain consistency.\n",
    "\n",
    "Message format:\n",
    "{format_instructions}\n",
    "\"\"\"\n",
    "\n",
    "prompt = PromptTemplate(\n",
    "    template=system_prompt,\n",
    "    input_variables=[\"k\", \"user_intentions\", \"target_task_intention\" \"target_task_intention_description\", \"format_instructions\"],\n",
    "    partial_variables={\"format_instructions\": output_parser.get_format_instructions()},\n",
    ")"
   ]
  },
  {
   "cell_type": "code",
   "execution_count": 35,
   "metadata": {},
   "outputs": [],
   "source": [
    "llm = ChatOpenAI(temperature=0.0, model=\"gpt-4o-mini\")\n",
    "\n",
    "user_intentions = [\"update_claim_status\", \"get_claim_info\",  \"get_policy_info\"]\n",
    "k = 40 # Number of synthetic user messages to generate for each target task intention\n",
    "\n",
    "file_name = \"synthetic_intetions.json\"\n",
    "\n",
    "synthetic_data_chain = prompt | llm | output_parser"
   ]
  },
  {
   "cell_type": "markdown",
   "metadata": {},
   "source": [
    "# Intention 1 - Update Claim Status"
   ]
  },
  {
   "cell_type": "code",
   "execution_count": 36,
   "metadata": {},
   "outputs": [],
   "source": [
    "intention = \"update_claim_status\"\n",
    "\n",
    "description = \"The employee wants to update the status of a claim,\\\n",
    "    to do so they provide an id number to identify the claim that they want to update\\\n",
    "    and ask for update it to approved or denied.\"\n",
    "\n",
    "response = synthetic_data_chain.invoke({\"k\": k, \"user_intentions\": user_intentions, \"target_task_intention\": intention, \"target_task_intention_description\": description})\n",
    "\n",
    "update_claim_status_messages = []\n",
    "for message in response.messages:\n",
    "    update_claim_status_messages.append({\"Intention\":intention, \"Message\":message.message})"
   ]
  },
  {
   "cell_type": "code",
   "execution_count": 37,
   "metadata": {},
   "outputs": [],
   "source": [
    "add_messages(update_claim_status_messages, file_name)"
   ]
  },
  {
   "cell_type": "markdown",
   "metadata": {},
   "source": [
    "# Intention 2 -  Get Claim Info "
   ]
  },
  {
   "cell_type": "code",
   "execution_count": 38,
   "metadata": {},
   "outputs": [],
   "source": [
    "intention = \"get_claim_info\"\n",
    "\n",
    "description = \"\"\"The employee wants to access relevant information to assist in making decisions about a claim.\n",
    "This includes details like the claim's status, the associated policy's information, and other related claim data.\n",
    "Employees can query about specific claims, claim status, claim amounts, or any policy-related information that might help in the approval or denial process.\"\"\"\n",
    "\n",
    "response = synthetic_data_chain.invoke({\"k\": k, \"user_intentions\": user_intentions, \"target_task_intention\": intention, \"target_task_intention_description\": description})\n",
    "\n",
    "get_claim_info_messages = []\n",
    "\n",
    "for message in response.messages:\n",
    "    get_claim_info_messages.append({\"Intention\":intention, \"Message\":message.message})"
   ]
  },
  {
   "cell_type": "code",
   "execution_count": 39,
   "metadata": {},
   "outputs": [],
   "source": [
    "add_messages(get_claim_info_messages, file_name)"
   ]
  },
  {
   "cell_type": "markdown",
   "metadata": {},
   "source": [
    "# Intention 3 -  Get Policy Info "
   ]
  },
  {
   "cell_type": "code",
   "execution_count": 40,
   "metadata": {},
   "outputs": [],
   "source": [
    "intention = \"get_policy_info\"\n",
    "\n",
    "description = \"\"\"The employee wants to access relevant information regarding the insurance policy associated with a claim.\n",
    "This includes details such as the policy type, coverage, policyholder information, policy dates, and any other relevant data that could help in the claim decision process.\n",
    "Employees can query about the policy status, level, coverage type, or any associated details that may influence the claim's approval or denial.\"\"\"\n",
    "\n",
    "response = synthetic_data_chain.invoke({\"k\": k, \"user_intentions\": user_intentions, \"target_task_intention\": intention, \"target_task_intention_description\": description})\n",
    "\n",
    "get_policy_info_messages = []\n",
    "\n",
    "for message in response.messages:\n",
    "    get_policy_info_messages.append({\"Intention\":intention, \"Message\":message.message})"
   ]
  },
  {
   "cell_type": "code",
   "execution_count": 41,
   "metadata": {},
   "outputs": [],
   "source": [
    "add_messages(get_policy_info_messages, file_name)"
   ]
  },
  {
   "cell_type": "markdown",
   "metadata": {},
   "source": [
    "# No Intention: None"
   ]
  },
  {
   "cell_type": "code",
   "execution_count": 42,
   "metadata": {},
   "outputs": [],
   "source": [
    "system_prompt = \"\"\"\n",
    "You are tasked with generating synthetic user messages.\n",
    "\n",
    "The user intentions are:\n",
    "{user_intentions}\n",
    "\n",
    "Your task is to create {k} distinct messages completely unrelated to the available user intentions.\n",
    "These messages should be generic and not related to any specific task or intention.\n",
    "The user is engaging in casual conversation.\n",
    "The user might ask general questions, share opinions, or express emotions. \n",
    "The user might also ask for totaly none related questions to the platform. \n",
    "The user might ask general questions, share opinions, or express emotions.\n",
    "\n",
    "Follow these guidelines:\n",
    "1. Focus exclusively on not being related to any of the user intentions.\n",
    "2. Each message should be between 5 and 20 words.\n",
    "3. Avoid including any details or references to other user intentions.\n",
    "4. Ensure the messages sound natural and typical of user queries for the given intention.\n",
    "5. Follow the provided format strictly to maintain consistency.\n",
    "\n",
    "Message format:\n",
    "{format_instructions}\n",
    "\"\"\""
   ]
  },
  {
   "cell_type": "code",
   "execution_count": 43,
   "metadata": {},
   "outputs": [],
   "source": [
    "prompt = PromptTemplate(\n",
    "    template=system_prompt,\n",
    "    input_variables=[\"k\", \"user_intentions\"],\n",
    "    partial_variables={\"format_instructions\": output_parser.get_format_instructions()},\n",
    ")\n",
    "\n",
    "synthetic_data_chain = prompt | llm | output_parser"
   ]
  },
  {
   "cell_type": "code",
   "execution_count": 44,
   "metadata": {},
   "outputs": [],
   "source": [
    "response = synthetic_data_chain.invoke({\"k\": (k//3), \"user_intentions\": user_intentions})\n",
    "\n",
    "none_related_messages = []\n",
    "\n",
    "for message in response.messages:\n",
    "    none_related_messages.append({\"Intention\":\"None\", \"Message\":message.message})"
   ]
  },
  {
   "cell_type": "code",
   "execution_count": 45,
   "metadata": {},
   "outputs": [],
   "source": [
    "add_messages(none_related_messages, file_name)"
   ]
  }
 ],
 "metadata": {
  "kernelspec": {
   "display_name": "Python 3",
   "language": "python",
   "name": "python3"
  },
  "language_info": {
   "codemirror_mode": {
    "name": "ipython",
    "version": 3
   },
   "file_extension": ".py",
   "mimetype": "text/x-python",
   "name": "python",
   "nbconvert_exporter": "python",
   "pygments_lexer": "ipython3",
   "version": "3.12.1"
  }
 },
 "nbformat": 4,
 "nbformat_minor": 2
}
